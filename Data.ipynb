{
 "cells": [
  {
   "cell_type": "markdown",
   "metadata": {},
   "source": [
    "### Data"
   ]
  },
  {
   "cell_type": "markdown",
   "metadata": {},
   "source": [
    "The dataset used for this report (\"Data\") originated from the Seattle Police Department and recorded by Traffic Records. The Data includes all observations of traffic collisions from 2004 to the present, and records all 37 attributes of each collision, including weather, collision address, road condition etc.\n",
    "\n",
    "The Data includes 37 attributes for each observation and 194,674 observations from 2004 to 2019. As the machine learning algorithm will be focused on predicting accidents based on road conditions and weather, only a few attributes will be used for modelling. These \"core\" attributes include: \"SEVERITYCODE\", \"SEVERITYDESC\", \"COLLISIONTYPE\", \"\"WEATHER\" and \"ROADCOND\". An example of the an observation will be \"2, Injury Collision, Angles, Overcast, Wet\".\n",
    "\n",
    "More attributes might be included along the modelling process to increase model accuracy."
   ]
  }
 ],
 "metadata": {
  "kernelspec": {
   "display_name": "Python",
   "language": "python",
   "name": "conda-env-python-py"
  },
  "language_info": {
   "codemirror_mode": {
    "name": "ipython",
    "version": 3
   },
   "file_extension": ".py",
   "mimetype": "text/x-python",
   "name": "python",
   "nbconvert_exporter": "python",
   "pygments_lexer": "ipython3",
   "version": "3.6.11"
  }
 },
 "nbformat": 4,
 "nbformat_minor": 4
}
