{
 "cells": [
  {
   "cell_type": "markdown",
   "metadata": {},
   "source": [
    "### Introduction"
   ]
  },
  {
   "cell_type": "markdown",
   "metadata": {},
   "source": [
    "In the US, the main mode of transport is driving, and this can be seen by the advanced networks of highways and relatively simple public transit architecture in US cities. However, the reliance on highways meant that the traffic flow can be easily disrupted by accidents, and major efforts and resources would be needed to redistribute stuck traffic. This will extend to massive time and financial costs to both the Government and citizens.\n",
    "\n",
    "To reduce future instnaces of such cost incurrence, a need has arisen for an Advisory which: \n",
    "1. Advises drivers on the probability of accidents and alternative routes based on road condition and weather, which helps drivers and commuters plan ahead and reduces inconveniences; \n",
    "2. Helps public services plan resources on mitigating negative impact of accidents and respond more efficiently.\n",
    "\n",
    "This report is targeted at Government Officials in charge of Transportation, and aims to illustrate the development of a machine learning algorithm which meets this need."
   ]
  },
  {
   "cell_type": "code",
   "execution_count": null,
   "metadata": {},
   "outputs": [],
   "source": []
  }
 ],
 "metadata": {
  "kernelspec": {
   "display_name": "Python",
   "language": "python",
   "name": "conda-env-python-py"
  },
  "language_info": {
   "codemirror_mode": {
    "name": "ipython",
    "version": 3
   },
   "file_extension": ".py",
   "mimetype": "text/x-python",
   "name": "python",
   "nbconvert_exporter": "python",
   "pygments_lexer": "ipython3",
   "version": "3.6.11"
  }
 },
 "nbformat": 4,
 "nbformat_minor": 4
}
